{
 "cells": [
  {
   "cell_type": "markdown",
   "metadata": {},
   "source": [
    "# Python"
   ]
  },
  {
   "cell_type": "markdown",
   "metadata": {},
   "source": [
    "### Useful Libraries"
   ]
  },
  {
   "cell_type": "raw",
   "metadata": {},
   "source": [
    "-SciPy: Scientific Computing\n",
    "-SciKitLearn: Machine Learning\n",
    "-Statsmodels: Statistics\n",
    "-Numpy: Data Structures and Analysis\n",
    "-Pandas: Data Structures and Analysis\n",
    "-Seaborn: Visualization\n",
    "-Matplotlib: Visualization\n",
    "-NLTK: Natural Language ToolKit\n",
    "-LDA: Latent Dirichlet Allocation\n",
    "-PyMC: Bayesian Statistical Models\n",
    "-OpenCV, simpleCV: Computer Vision and Images"
   ]
  },
  {
   "cell_type": "markdown",
   "metadata": {},
   "source": [
    "# Data Types (Scalar)"
   ]
  },
  {
   "cell_type": "raw",
   "metadata": {},
   "source": [
    "The main scalar data types we'll be using in this class are:\n",
    "str: Think of strings as words or characters. \n",
    "float: Think of floats as decimal numbers\n",
    "boolean: True or False values\n",
    "int: Integers\n",
    "None: A special type, NoneType, that we'll see "
   ]
  },
  {
   "cell_type": "code",
   "execution_count": 2,
   "metadata": {
    "collapsed": false
   },
   "outputs": [
    {
     "name": "stdout",
     "output_type": "stream",
     "text": [
      "<type 'int'>\n",
      "<type 'float'>\n",
      "<type 'str'>\n",
      "<type 'bool'>\n",
      "<type 'NoneType'>\n"
     ]
    }
   ],
   "source": [
    "#the function type takes one argument and returns its type\n",
    "print type(5)             # int\n",
    "print type(5.0)           # float\n",
    "print type('five')        # str\n",
    "print type(True)          # bool\n",
    "print type(None)          # None"
   ]
  },
  {
   "cell_type": "code",
   "execution_count": 3,
   "metadata": {
    "collapsed": false
   },
   "outputs": [
    {
     "name": "stdout",
     "output_type": "stream",
     "text": [
      "True\n",
      "False\n"
     ]
    },
    {
     "data": {
      "text/plain": [
       "int"
      ]
     },
     "execution_count": 3,
     "metadata": {},
     "output_type": "execute_result"
    }
   ],
   "source": [
    "x = 5 #Assigns the variable x to the value 5\n",
    "\n",
    "#The function isinstance takes two arguments. It returns True if the \n",
    "#type of the first argument is the same as the second argument\n",
    "print isinstance(x, int)\n",
    "print isinstance(x, str)\n",
    "type(x)"
   ]
  },
  {
   "cell_type": "code",
   "execution_count": 5,
   "metadata": {
    "collapsed": false
   },
   "outputs": [
    {
     "name": "stdout",
     "output_type": "stream",
     "text": [
      "2\n",
      "1\n",
      "0\n",
      "0.666666666667\n",
      "2\n",
      "4\n",
      "8\n"
     ]
    }
   ],
   "source": [
    "#Operations +,-,/,//,*,**\n",
    "print 1+1 #Addition\n",
    "print 2-1 #Subtraction\n",
    "print 2/3#Division. In Python 2.x this is integer division\n",
    "print 2.0/3 #To get a fractional value convert one of the numbers to a float\n",
    "print 2%3 #Modular arithmetic\n",
    "print 2*2 #Multiplication\n",
    "print 2**3 #Powers"
   ]
  },
  {
   "cell_type": "code",
   "execution_count": 6,
   "metadata": {
    "collapsed": false
   },
   "outputs": [
    {
     "name": "stdout",
     "output_type": "stream",
     "text": [
      "0.666666666667\n",
      "0\n"
     ]
    }
   ],
   "source": [
    "#If using python 2.x importing division from the future allows for \n",
    "#floating division\n",
    "from __future__ import division\n",
    "print(2/3)"
   ]
  },
  {
   "cell_type": "markdown",
   "metadata": {},
   "source": [
    "# Data Structures\n",
    "Lists, Dictionaries"
   ]
  },
  {
   "cell_type": "markdown",
   "metadata": {},
   "source": [
    "### Lists"
   ]
  },
  {
   "cell_type": "code",
   "execution_count": 23,
   "metadata": {
    "collapsed": false
   },
   "outputs": [],
   "source": [
    "#creating a list\n",
    "lst = [1,2,3] #Initialize a list with brackets []\n",
    "lst2 = range(5) #The function range(n) returns a list with the \n",
    "#values 0 to n-1"
   ]
  },
  {
   "cell_type": "code",
   "execution_count": 24,
   "metadata": {
    "collapsed": false
   },
   "outputs": [
    {
     "name": "stdout",
     "output_type": "stream",
     "text": [
      "[1, 2, 3, 4]\n",
      "[1, 2, 3, 4, 4]\n",
      "[1, 2, 3, 4, 0, 1, 2, 3, 4]\n"
     ]
    }
   ],
   "source": [
    "#adding to a list\n",
    "lst.append(4) #.append(value) appends value to the end of the list\n",
    "print(lst)\n",
    "print(lst + [4]) #Adding two lists returns a list with the elements from both lists\n",
    "print(lst+lst2)"
   ]
  },
  {
   "cell_type": "code",
   "execution_count": 25,
   "metadata": {
    "collapsed": false
   },
   "outputs": [
    {
     "name": "stdout",
     "output_type": "stream",
     "text": [
      "Full list: [1, 2, 3, 4]\n",
      "first element: 1\n",
      "second element: 2\n",
      "second element: 4\n",
      "slice from 1 to 2: [2, 3]\n",
      "[1, 7, 2, 3, 4]\n"
     ]
    }
   ],
   "source": [
    "#list indexing\n",
    "\n",
    "#To index, access the elements of the list use brackets with the position \n",
    "#of the element you want to access\n",
    "print('Full list: {}'.format(lst)) \n",
    "print('first element: {}'.format(lst[0])) #the first element starts at position 0\n",
    "print('second element: {}'.format(lst[1])) #the second element starts at position 1\n",
    "\n",
    "#using negatives allows you to access the elements from the end starting at -1\n",
    "print('second element: {}'.format(lst[-1])) #-1 grabs the last element of the list\n",
    "\n",
    "# i:j allows you to grab a slice of the list from position i to position j-1\n",
    "print('slice from 1 to 2: {}'.format(lst[1:3]))#elements 1 to 2  (1 to 3-1)\n",
    "\n",
    "\n",
    "lst.insert(1,7) #insert 7 at position 1\n",
    "print(lst)"
   ]
  },
  {
   "cell_type": "code",
   "execution_count": 16,
   "metadata": {
    "collapsed": false
   },
   "outputs": [
    {
     "name": "stdout",
     "output_type": "stream",
     "text": [
      "9\n",
      "<type 'list'>\n"
     ]
    },
    {
     "data": {
      "text/plain": [
       "True"
      ]
     },
     "execution_count": 16,
     "metadata": {},
     "output_type": "execute_result"
    }
   ],
   "source": [
    "print(len(lst)) #len function returns the length of the list\n",
    "print(type(lst)) #A list is of type list\n",
    "isinstance(lst, list) #Checking if lst is of type list"
   ]
  },
  {
   "cell_type": "code",
   "execution_count": 26,
   "metadata": {
    "collapsed": false
   },
   "outputs": [
    {
     "name": "stdout",
     "output_type": "stream",
     "text": [
      "17\n",
      "[1, 7, 2, 3, 4]\n",
      "[1, 7, 2, 3, 4]\n",
      "[1, 2, 3, 4, 7]\n"
     ]
    }
   ],
   "source": [
    "print(sum(lst)) #the function sum adds all the elements of the list\n",
    "\n",
    "print(lst)\n",
    "sorted(lst) #the function sorted returns a sorted list\n",
    "print(lst)\n",
    "lst.sort() # The method .sort() sorts the list in place\n",
    "print(lst)"
   ]
  },
  {
   "cell_type": "code",
   "execution_count": 29,
   "metadata": {
    "collapsed": false
   },
   "outputs": [
    {
     "name": "stdout",
     "output_type": "stream",
     "text": [
      "[(1, 4), (2, 5), (3, 6)]\n",
      "[1, 2, 3]\n",
      "[1, 3, 4, 7, 0, 1, 3, 4, 2, 2, 0, 1, 2, 3, 4, 2, 2]\n",
      "[1, 3, 4, 7, 0, 1, 3, 4, 2, 0, 1, 2, 3, 4, 2, 2]\n"
     ]
    }
   ],
   "source": [
    "#The function zip takes two lists and returns a list of tuples where the \n",
    "#tuples are made up of the positional elements of both lists\n",
    "print(zip([1,2,3],[4,5,6]) )\n",
    "\n",
    "#The map function takes a function as the first argument and a list as the\n",
    "#second. it returns a list where the inputted funtion has been applied to \n",
    "#every element of the list\n",
    "print(map(abs, [-1,-2,3])) # apply abs, absolute value, to each element of [-1,-2,-3]\n",
    "\n",
    "lst.remove(2)#removes the first 2 found\n",
    "lst.extend(lst2)#extend appends the values of the second list to the first list"
   ]
  },
  {
   "cell_type": "markdown",
   "metadata": {},
   "source": [
    "### Dictionaries"
   ]
  },
  {
   "cell_type": "code",
   "execution_count": 31,
   "metadata": {
    "collapsed": true
   },
   "outputs": [],
   "source": [
    "#Think of a dictionary as a bunch of key, value pairs. Where you can look  \n",
    "#up the value for a particular key\n",
    "\n",
    "#Creating a dictionary\n",
    "#Dictionaries are created with curly brackets {}\n",
    "#The key and corresponding value are seperated by :\n",
    "#Key value pairs are seperated by a comma\n",
    "dict1 =  {'one':1, 'two':2, 'three':3}\n",
    "dict2 = {'four':4, 'five':5}"
   ]
  },
  {
   "cell_type": "code",
   "execution_count": 33,
   "metadata": {
    "collapsed": false
   },
   "outputs": [
    {
     "name": "stdout",
     "output_type": "stream",
     "text": [
      "['three', 'two', 'one']\n",
      "[3, 2, 1]\n",
      "{'three': 3, 'two': 2, 'one': 1}\n"
     ]
    }
   ],
   "source": [
    "print(dict1.keys())#The method .keys() returns a list of the keys of a dictionary\n",
    "print(dict1.values())#The method .values() returns a list of the values of a dictionary\n",
    "print(dict1)"
   ]
  },
  {
   "cell_type": "code",
   "execution_count": 56,
   "metadata": {
    "collapsed": false
   },
   "outputs": [
    {
     "name": "stdout",
     "output_type": "stream",
     "text": [
      "1\n"
     ]
    }
   ],
   "source": [
    "#use square brackets with the key to look up the corresponding value\n",
    "print(dict1['one']) #prints the returned value for key 'one'"
   ]
  },
  {
   "cell_type": "code",
   "execution_count": 34,
   "metadata": {
    "collapsed": false
   },
   "outputs": [
    {
     "name": "stdout",
     "output_type": "stream",
     "text": [
      "True\n",
      "False\n"
     ]
    }
   ],
   "source": [
    "#the keyword in allows you to check if a key is in a dictionary\n",
    "print 'one' in dict1 #'one' is a key in the dictionary\n",
    "print 1 in dict1 #1 is not a key in the dictionary. It's a value"
   ]
  },
  {
   "cell_type": "code",
   "execution_count": 310,
   "metadata": {
    "collapsed": true
   },
   "outputs": [],
   "source": [
    "#You can add a new key value pair to a dictionary by assigning the dictionary\n",
    "#with brackets and the key to the value using =\n",
    "\n",
    "dict1['Mike'] = [1] #assigning the key 'Mike' to the value [1]\n",
    "\n",
    "dict1['Mike'].append(2) #accesing the value for the key Mike, which is a list,\n",
    "#and then appending 2 to the value"
   ]
  },
  {
   "cell_type": "markdown",
   "metadata": {},
   "source": [
    "# Control Flows"
   ]
  },
  {
   "cell_type": "code",
   "execution_count": 330,
   "metadata": {
    "collapsed": false
   },
   "outputs": [
    {
     "name": "stdout",
     "output_type": "stream",
     "text": [
      "c\n"
     ]
    }
   ],
   "source": [
    "#If statements control the flow via boolean types\n",
    "\n",
    "#The first if statement checks a boolean value. \n",
    "#If it's True the values below it are executed and all other elif, else statements are skipped\n",
    "#If it's False then the code below it is skipped and the next elif statement\n",
    "#is checked. \n",
    "#This continues until a True statement has been found. \n",
    "#If no True statement is found then the code in the else statement is executed\n",
    "\n",
    "a = False\n",
    "b = False\n",
    "if a: #check if a is True\n",
    "    print 'a' #If a is true print a\n",
    "elif b: #if a is False check if b is true\n",
    "    print 'b' #if a is False and b is True print b\n",
    "else: #If a and b are both False\n",
    "    print 'c' #print c"
   ]
  },
  {
   "cell_type": "code",
   "execution_count": 332,
   "metadata": {
    "collapsed": false
   },
   "outputs": [
    {
     "name": "stdout",
     "output_type": "stream",
     "text": [
      "small\n"
     ]
    }
   ],
   "source": [
    "x = 1 #set x to an integer\n",
    "if x > 4: #check if x is bigger than 4\n",
    "    print('big') #if True print 'big'\n",
    "else:\n",
    "    print('small') #Otherwise, print 'small'"
   ]
  },
  {
   "cell_type": "code",
   "execution_count": 337,
   "metadata": {
    "collapsed": false
   },
   "outputs": [],
   "source": [
    "#the pass keyword acts as a placeholder when you don't have any code to \n",
    "#execute in an if, else statement\n",
    "if True:\n",
    "    #to do\n",
    "    pass\n",
    "else:\n",
    "    print('not true')"
   ]
  },
  {
   "cell_type": "code",
   "execution_count": 338,
   "metadata": {
    "collapsed": false
   },
   "outputs": [
    {
     "data": {
      "text/plain": [
       "['True', 'False']"
      ]
     },
     "execution_count": 338,
     "metadata": {},
     "output_type": "execute_result"
    }
   ],
   "source": [
    "#Ternary operator, expression\n",
    "#combine if-else statements into a single line or expression\n",
    "#true-exp if condition else false-expr\n",
    "'True' if True else 'False'\n",
    "['True' if i else 'False' for i in [True, False]]"
   ]
  },
  {
   "cell_type": "markdown",
   "metadata": {},
   "source": [
    "# For Loops"
   ]
  },
  {
   "cell_type": "code",
   "execution_count": 339,
   "metadata": {
    "collapsed": false
   },
   "outputs": [
    {
     "name": "stdout",
     "output_type": "stream",
     "text": [
      "0\n",
      "1\n",
      "2\n",
      "3\n",
      "4\n"
     ]
    }
   ],
   "source": [
    "#for loop allows you to iterate over an iterable object, like a list, and perform\n",
    "#some operations\n",
    "\n",
    "for i in range(5): #for each value in range(5) (the variable i is assigned that value)\n",
    "    print i #print i"
   ]
  },
  {
   "cell_type": "code",
   "execution_count": 35,
   "metadata": {
    "collapsed": false,
    "scrolled": true
   },
   "outputs": [
    {
     "name": "stdout",
     "output_type": "stream",
     "text": [
      "1\n",
      "3\n",
      "5\n",
      "7\n"
     ]
    }
   ],
   "source": [
    "#You can add if statements in your for loops\n",
    "lst = []\n",
    "for i in range(8): #assign i to each value in range(8)\n",
    "    if i%2 == 0: #check if i is even\n",
    "        lst.append(i) #if i is even append it to the list\n",
    "        continue #the continue keyword breaks you out of a loop. \n",
    "    print i #print i"
   ]
  },
  {
   "cell_type": "markdown",
   "metadata": {},
   "source": [
    "# While Loops"
   ]
  },
  {
   "cell_type": "code",
   "execution_count": 36,
   "metadata": {
    "collapsed": false
   },
   "outputs": [
    {
     "name": "stdout",
     "output_type": "stream",
     "text": [
      "0\n",
      "1\n",
      "2\n",
      "3\n"
     ]
    }
   ],
   "source": [
    "#while loops are similar to for loops but they check a boolean and keep \n",
    "#executing until the boolean is False\n",
    "#when using while loops be careful to have a breaking condition otherwise\n",
    "#you'll get stuck in an infinite loop\n",
    "\n",
    "i = 0 \n",
    "while i < 5:\n",
    "    print i\n",
    "    i += 1\n",
    "    if i == 4:\n",
    "        break"
   ]
  },
  {
   "cell_type": "markdown",
   "metadata": {},
   "source": [
    "# List and Dictionary Comprehension"
   ]
  },
  {
   "cell_type": "code",
   "execution_count": 40,
   "metadata": {
    "collapsed": false
   },
   "outputs": [
    {
     "name": "stdout",
     "output_type": "stream",
     "text": [
      "[0, 1, 2, 3, 4]\n",
      "[0, 1, 2]\n",
      "[0, 2, 4, 6]\n",
      "{'three': 3, 'two': 2, 'one': 1}\n"
     ]
    }
   ],
   "source": [
    "#List and dictionary comprehension allow you to easily create lists and \n",
    "#dictionaries in a single line using loops within [] or {}\n",
    "\n",
    "print([i for i in range(5)]) #create a list by iterating over range(5) \n",
    "\n",
    "#adding an if statement controls what elements are added to the list.\n",
    "print([i for i in range(5) if i < 3]) #Only add elements < 3 to the list\n",
    "print([i  for i in range(8) if i%2 == 0]) #only add even numbers to the list\n",
    "\n",
    "print({i:j for i, j in zip(['one', 'two', 'three'], [1,2,3])})\n",
    "#First creates a list of tuples from the two lists\n",
    "#Second: iterates over the tuple assining i to the first value and j to the second\n",
    "#Third creats a key, value pair from variables i, j in the dictionary"
   ]
  },
  {
   "cell_type": "markdown",
   "metadata": {},
   "source": [
    "# Exercises"
   ]
  },
  {
   "cell_type": "raw",
   "metadata": {},
   "source": [
    "1. Create a dictionary, ex_dict, where the keys are names and values are integers\n",
    "    keys: 'mike', 'john', 'bob' values: 1,2,3\n",
    "2. Create a list of the names in ex_dict where every character is upper case\n",
    "name.upper()\n",
    "3. what is the average of the values in the dictionary?\n",
    "4. add a new key/values to the dictionary. amy and 4\n",
    "5. Create a list of the numbers from -20 to 20\n",
    "6. Using the existing list create a  new list made up of the absolute values of the previous list and then sort\n",
    "7. create two new lists (one the lowest five elements and another the highest 5 elements)8. write a for loop that prints the numbers from 0 to 20\n",
    "9. modify the for loop so that it only prints even numbers\n",
    "10. create a list that is made up of the numbers from -10 to 10\n",
    "11. Using both list comprehension and the map function create the same list made up of absolute values\n",
    "12. make a list from the previous list that's made up of the words 'even', 'odd' depending on if the element is even or odd\n",
    "13. using the previous list make all even elements upper case and all odd elements lower case\n",
    "14. using list comprehensions and the previous list construct a new lists of the even elements"
   ]
  },
  {
   "cell_type": "markdown",
   "metadata": {},
   "source": [
    "# Solutions"
   ]
  },
  {
   "cell_type": "code",
   "execution_count": 42,
   "metadata": {
    "collapsed": true
   },
   "outputs": [],
   "source": [
    "#1. Create a dictionary, ex_dict, where the keys are names and values are integers\n",
    "#    keys: 'mike', 'john', 'bob' values: 1,2,3\n",
    "ex_dict = {'mike':1, 'john':2, 'bob':3}"
   ]
  },
  {
   "cell_type": "code",
   "execution_count": 45,
   "metadata": {
    "collapsed": false
   },
   "outputs": [
    {
     "data": {
      "text/plain": [
       "['MIKE', 'JOHN', 'BOB']"
      ]
     },
     "execution_count": 45,
     "metadata": {},
     "output_type": "execute_result"
    }
   ],
   "source": [
    "#2. Create a list of the names in ex_dict where every character is upper case\n",
    "#name.upper()\n",
    "[i.upper() for i in ex_dict.keys()]"
   ]
  },
  {
   "cell_type": "code",
   "execution_count": 48,
   "metadata": {
    "collapsed": false
   },
   "outputs": [
    {
     "data": {
      "text/plain": [
       "2.0"
      ]
     },
     "execution_count": 48,
     "metadata": {},
     "output_type": "execute_result"
    }
   ],
   "source": [
    "#3. what is the average of the values in the dictionary?\n",
    "1.0*sum(ex_dict.values())/len(ex_dict.values())"
   ]
  },
  {
   "cell_type": "code",
   "execution_count": 49,
   "metadata": {
    "collapsed": true
   },
   "outputs": [],
   "source": [
    "#4. add a new key/values to the dictionary. amy and 4\n",
    "ex_dict['amy'] = 4"
   ]
  },
  {
   "cell_type": "code",
   "execution_count": 52,
   "metadata": {
    "collapsed": false
   },
   "outputs": [],
   "source": [
    "#5. Create a list of the numbers from -20 to 20\n",
    "lst = range(-20, 21)"
   ]
  },
  {
   "cell_type": "code",
   "execution_count": 55,
   "metadata": {
    "collapsed": false
   },
   "outputs": [],
   "source": [
    "#6. Using the existing list create a  new list made up of the absolute values of the previous list and then sort\n",
    "abs_lst1 = sorted(map(abs, lst))\n",
    "#or \n",
    "abs_lst2 = [abs(i) for i in lst]"
   ]
  },
  {
   "cell_type": "code",
   "execution_count": 57,
   "metadata": {
    "collapsed": false
   },
   "outputs": [
    {
     "name": "stdout",
     "output_type": "stream",
     "text": [
      "[0, 1, 1, 2, 2]\n",
      "[18, 19, 19, 20, 20]\n"
     ]
    }
   ],
   "source": [
    "#7. create two new lists (one the lowest five elements and another the highest 5 elements)\n",
    "print(abs_lst1[:5])\n",
    "print(abs_lst1[-5:])"
   ]
  },
  {
   "cell_type": "code",
   "execution_count": 70,
   "metadata": {
    "collapsed": false
   },
   "outputs": [],
   "source": [
    "#8. write a for loop that prints the numbers from 0 to 20\n",
    "for i in range(21):\n",
    "    print(i)"
   ]
  },
  {
   "cell_type": "code",
   "execution_count": 60,
   "metadata": {
    "collapsed": false
   },
   "outputs": [
    {
     "name": "stdout",
     "output_type": "stream",
     "text": [
      "0\n",
      "2\n",
      "4\n",
      "6\n",
      "8\n",
      "10\n",
      "12\n",
      "14\n",
      "16\n",
      "18\n",
      "20\n"
     ]
    }
   ],
   "source": [
    "#9. modify the for loop so that it only prints even numbers\n",
    "for i in range(21):\n",
    "    if i%2 == 0:\n",
    "        print(i)"
   ]
  },
  {
   "cell_type": "code",
   "execution_count": 61,
   "metadata": {
    "collapsed": true
   },
   "outputs": [],
   "source": [
    "#10. create a list that is made up of the numbers from -10 to 10\n",
    "lst_10 = range(-10, 10)"
   ]
  },
  {
   "cell_type": "code",
   "execution_count": 62,
   "metadata": {
    "collapsed": true
   },
   "outputs": [],
   "source": [
    "#11. Using both list comprehension and the map function create the same list made up of absolute values\n",
    "abs_lst1 = sorted(map(abs, lst_10))\n",
    "#or \n",
    "abs_lst2 = [abs(i) for i in lst_10]"
   ]
  },
  {
   "cell_type": "code",
   "execution_count": 65,
   "metadata": {
    "collapsed": false
   },
   "outputs": [],
   "source": [
    "#12. make a list from the previous list that's made up of the words 'even', 'odd' depending on if the element is even or odd\n",
    "\n",
    "#use a ternary if statement in a list comprehension\n",
    "even_odd = ['even' if i%2==0 else 'odd' for i in abs_lst1]"
   ]
  },
  {
   "cell_type": "code",
   "execution_count": 68,
   "metadata": {
    "collapsed": false
   },
   "outputs": [],
   "source": [
    "#13. using the previous list make all even elements upper case and all odd elements lower case\n",
    "EVEN_odd = [s.upper() if s == 'even' else s for s in even_odd]"
   ]
  },
  {
   "cell_type": "code",
   "execution_count": 67,
   "metadata": {
    "collapsed": false
   },
   "outputs": [
    {
     "data": {
      "text/plain": [
       "[0, 2, 2, 4, 4, 6, 6, 8, 8, 10]"
      ]
     },
     "execution_count": 67,
     "metadata": {},
     "output_type": "execute_result"
    }
   ],
   "source": [
    "#14. using list comprehensions and the previous list construct a new lists of the even elements\n",
    "[i for i in abs_lst1 if i%2==0]"
   ]
  },
  {
   "cell_type": "markdown",
   "metadata": {},
   "source": [
    "# Functions"
   ]
  },
  {
   "cell_type": "code",
   "execution_count": 360,
   "metadata": {
    "collapsed": true
   },
   "outputs": [],
   "source": [
    "def print_hello():\n",
    "    print 'hello'\n",
    "\n",
    "def print_name(name):\n",
    "    print name\n",
    "    \n",
    "def add_numbers(x,y):\n",
    "    return(x+y)\n",
    "\n",
    "def print_name(name='Mike'):\n",
    "    print name"
   ]
  },
  {
   "cell_type": "code",
   "execution_count": 71,
   "metadata": {
    "collapsed": false
   },
   "outputs": [
    {
     "name": "stdout",
     "output_type": "stream",
     "text": [
      "[2]\n",
      "1\n"
     ]
    }
   ],
   "source": [
    "#When passing objects as arguments to a function, you are passing a reference; no copying occurs\n",
    "#Pass by reference\n",
    "#Doesn't work for ints, integers are immutable\n",
    "def add(x,a):\n",
    "    x[0] += 1\n",
    "    a += 1\n",
    "x = [1]\n",
    "a = 1\n",
    "add(x,a)\n",
    "print(x)\n",
    "print(a)"
   ]
  },
  {
   "cell_type": "code",
   "execution_count": 72,
   "metadata": {
    "collapsed": false
   },
   "outputs": [
    {
     "data": {
      "text/plain": [
       "4"
      ]
     },
     "execution_count": 72,
     "metadata": {},
     "output_type": "execute_result"
    }
   ],
   "source": [
    "func = lambda x: x+2\n",
    "func(2)\n",
    "#Can use in map or as the key to sort"
   ]
  },
  {
   "cell_type": "markdown",
   "metadata": {},
   "source": [
    "# Exercises"
   ]
  },
  {
   "cell_type": "raw",
   "metadata": {},
   "source": [
    "15: Write a function that takes a name as input and prints \"Hello, my name is (name)\"\n",
    "16. Write a function that takes two lists and returns a new sorted list that is made up of all the elements in both lists\n",
    "17. Modify the first function so that it prints your name unless another name is inputted (try using with and without an input)\n",
    "18. create a function that takes two arrays of integers as input and the output is a list of the square root of the sum of their squares "
   ]
  },
  {
   "cell_type": "markdown",
   "metadata": {},
   "source": [
    "## Solutions"
   ]
  },
  {
   "cell_type": "code",
   "execution_count": 76,
   "metadata": {
    "collapsed": false
   },
   "outputs": [],
   "source": [
    "#15: Write a function that takes a name as input and prints \"Hello, my name is (name)\"\n",
    "def print_name(name):\n",
    "    print('Hello, my name is {}'.format(name))\n",
    "#16. Write a function that takes two lists and returns a new sorted list that is made up of all the elements in both lists\n",
    "def list_combine_sort(l1, l2):\n",
    "    return(sorted(l1 + l2))\n",
    "#17. Modify the first function so that it prints your name unless another name is inputted (try using with and without an input)\n",
    "def print_name(name='mike'):\n",
    "    print('Hello, my name is {}'.format(name) )    \n",
    "#18. create a function that takes two arrays of integers as input and the output is a list of the square root of the sum of their squares \n",
    "def sum_square(x,y):\n",
    "    import math\n",
    "    return(map(lambda z: math.sqrt(z[0]**2+z[1]**2), zip(x,y)))"
   ]
  },
  {
   "cell_type": "markdown",
   "metadata": {},
   "source": [
    "# Objects and Classes"
   ]
  },
  {
   "cell_type": "code",
   "execution_count": 70,
   "metadata": {
    "collapsed": true
   },
   "outputs": [],
   "source": [
    "#Objects have attributes and methods\n",
    "    #Attribute: Other objects inside obejct\n",
    "    #Method: Functions inside object\n",
    "    \n",
    "class example_class():\n",
    "    def __init__(self, n, v):\n",
    "        self.name = n\n",
    "        self.value = v\n",
    "    def print_name(self):\n",
    "        print self.name\n",
    "    def change_name(self,n):\n",
    "        self.name = n\n",
    "\n",
    "ex = example('mike', 33)"
   ]
  },
  {
   "cell_type": "code",
   "execution_count": 74,
   "metadata": {
    "collapsed": false
   },
   "outputs": [
    {
     "name": "stdout",
     "output_type": "stream",
     "text": [
      "John\n",
      "33\n",
      "John\n",
      "John\n"
     ]
    },
    {
     "data": {
      "text/plain": [
       "instance"
      ]
     },
     "execution_count": 74,
     "metadata": {},
     "output_type": "execute_result"
    }
   ],
   "source": [
    "print(ex.name)\n",
    "print(ex.value)\n",
    "ex.print_name()\n",
    "ex.change_name('John')\n",
    "print(ex.name)\n",
    "type(ex)"
   ]
  },
  {
   "cell_type": "markdown",
   "metadata": {},
   "source": [
    "# Exercises"
   ]
  },
  {
   "cell_type": "raw",
   "metadata": {},
   "source": [
    "19. What two things to objects have?\n",
    "20. describe the class below an what it does.\n",
    "21. add to the class\n",
    "\t-method set_age that sets the age\n",
    "\t-attribute job \n",
    "\t-method change job that changes job attribute to new inputted job\n",
    "22. create an object for yourself. Add degree. Change your job. Have a birthday or two"
   ]
  },
  {
   "cell_type": "code",
   "execution_count": 133,
   "metadata": {
    "collapsed": true
   },
   "outputs": [],
   "source": [
    "class example_class():\n",
    "    def __init__(self, n = None, a = None, degrees = []):\n",
    "        self.name = n\n",
    "        self.age = a\n",
    "        self.education = degrees\n",
    "    def add_education(self, deg):\n",
    "        self.education.append(deg)\n",
    "    def birthday(self):\n",
    "        try: \n",
    "            self.age += 1\n",
    "        except: \n",
    "            print 'current invalid age'"
   ]
  }
 ],
 "metadata": {
  "kernelspec": {
   "display_name": "Python 2",
   "language": "python",
   "name": "python2"
  },
  "language_info": {
   "codemirror_mode": {
    "name": "ipython",
    "version": 2
   },
   "file_extension": ".py",
   "mimetype": "text/x-python",
   "name": "python",
   "nbconvert_exporter": "python",
   "pygments_lexer": "ipython2",
   "version": "2.7.10"
  }
 },
 "nbformat": 4,
 "nbformat_minor": 0
}

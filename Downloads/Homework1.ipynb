{
 "cells": [
  {
   "cell_type": "code",
   "execution_count": 3,
   "metadata": {
    "collapsed": true
   },
   "outputs": [],
   "source": [
    "from pandas import *\n",
    "import numpy\n",
    "import pylab as P\n",
    "import matplotlib.pyplot as plt\n",
    "%matplotlib inline"
   ]
  },
  {
   "cell_type": "code",
   "execution_count": 6,
   "metadata": {
    "collapsed": false
   },
   "outputs": [],
   "source": [
    "#1.Read the titanic data set into a pandas dataframe.\n",
    "data = read_csv('Workspace/Course/GAAssembly/DAT_ATL_15/DAT_ATL_15/Datasets/titanic_train.csv')"
   ]
  },
  {
   "cell_type": "code",
   "execution_count": 7,
   "metadata": {
    "collapsed": false
   },
   "outputs": [
    {
     "data": {
      "text/html": [
       "<div>\n",
       "<table border=\"1\" class=\"dataframe\">\n",
       "  <thead>\n",
       "    <tr style=\"text-align: right;\">\n",
       "      <th></th>\n",
       "      <th>PassengerId</th>\n",
       "      <th>Survived</th>\n",
       "      <th>Pclass</th>\n",
       "      <th>Name</th>\n",
       "      <th>Sex</th>\n",
       "      <th>Age</th>\n",
       "      <th>SibSp</th>\n",
       "      <th>Parch</th>\n",
       "      <th>Ticket</th>\n",
       "      <th>Fare</th>\n",
       "      <th>Cabin</th>\n",
       "      <th>Embarked</th>\n",
       "    </tr>\n",
       "  </thead>\n",
       "  <tbody>\n",
       "    <tr>\n",
       "      <th>0</th>\n",
       "      <td>1</td>\n",
       "      <td>0</td>\n",
       "      <td>3</td>\n",
       "      <td>Braund, Mr. Owen Harris</td>\n",
       "      <td>male</td>\n",
       "      <td>22</td>\n",
       "      <td>1</td>\n",
       "      <td>0</td>\n",
       "      <td>A/5 21171</td>\n",
       "      <td>7.2500</td>\n",
       "      <td>NaN</td>\n",
       "      <td>S</td>\n",
       "    </tr>\n",
       "    <tr>\n",
       "      <th>1</th>\n",
       "      <td>2</td>\n",
       "      <td>1</td>\n",
       "      <td>1</td>\n",
       "      <td>Cumings, Mrs. John Bradley (Florence Briggs Th...</td>\n",
       "      <td>female</td>\n",
       "      <td>38</td>\n",
       "      <td>1</td>\n",
       "      <td>0</td>\n",
       "      <td>PC 17599</td>\n",
       "      <td>71.2833</td>\n",
       "      <td>C85</td>\n",
       "      <td>C</td>\n",
       "    </tr>\n",
       "    <tr>\n",
       "      <th>2</th>\n",
       "      <td>3</td>\n",
       "      <td>1</td>\n",
       "      <td>3</td>\n",
       "      <td>Heikkinen, Miss. Laina</td>\n",
       "      <td>female</td>\n",
       "      <td>26</td>\n",
       "      <td>0</td>\n",
       "      <td>0</td>\n",
       "      <td>STON/O2. 3101282</td>\n",
       "      <td>7.9250</td>\n",
       "      <td>NaN</td>\n",
       "      <td>S</td>\n",
       "    </tr>\n",
       "    <tr>\n",
       "      <th>3</th>\n",
       "      <td>4</td>\n",
       "      <td>1</td>\n",
       "      <td>1</td>\n",
       "      <td>Futrelle, Mrs. Jacques Heath (Lily May Peel)</td>\n",
       "      <td>female</td>\n",
       "      <td>35</td>\n",
       "      <td>1</td>\n",
       "      <td>0</td>\n",
       "      <td>113803</td>\n",
       "      <td>53.1000</td>\n",
       "      <td>C123</td>\n",
       "      <td>S</td>\n",
       "    </tr>\n",
       "    <tr>\n",
       "      <th>4</th>\n",
       "      <td>5</td>\n",
       "      <td>0</td>\n",
       "      <td>3</td>\n",
       "      <td>Allen, Mr. William Henry</td>\n",
       "      <td>male</td>\n",
       "      <td>35</td>\n",
       "      <td>0</td>\n",
       "      <td>0</td>\n",
       "      <td>373450</td>\n",
       "      <td>8.0500</td>\n",
       "      <td>NaN</td>\n",
       "      <td>S</td>\n",
       "    </tr>\n",
       "  </tbody>\n",
       "</table>\n",
       "</div>"
      ],
      "text/plain": [
       "   PassengerId  Survived  Pclass  \\\n",
       "0            1         0       3   \n",
       "1            2         1       1   \n",
       "2            3         1       3   \n",
       "3            4         1       1   \n",
       "4            5         0       3   \n",
       "\n",
       "                                                Name     Sex  Age  SibSp  \\\n",
       "0                            Braund, Mr. Owen Harris    male   22      1   \n",
       "1  Cumings, Mrs. John Bradley (Florence Briggs Th...  female   38      1   \n",
       "2                             Heikkinen, Miss. Laina  female   26      0   \n",
       "3       Futrelle, Mrs. Jacques Heath (Lily May Peel)  female   35      1   \n",
       "4                           Allen, Mr. William Henry    male   35      0   \n",
       "\n",
       "   Parch            Ticket     Fare Cabin Embarked  \n",
       "0      0         A/5 21171   7.2500   NaN        S  \n",
       "1      0          PC 17599  71.2833   C85        C  \n",
       "2      0  STON/O2. 3101282   7.9250   NaN        S  \n",
       "3      0            113803  53.1000  C123        S  \n",
       "4      0            373450   8.0500   NaN        S  "
      ]
     },
     "execution_count": 7,
     "metadata": {},
     "output_type": "execute_result"
    }
   ],
   "source": [
    "#2.Look at the first 5 rows.\n",
    "data.head(5)"
   ]
  },
  {
   "cell_type": "code",
   "execution_count": 13,
   "metadata": {
    "collapsed": false
   },
   "outputs": [
    {
     "name": "stdout",
     "output_type": "stream",
     "text": [
      "There are 891 rows\n",
      "There are 12 columns\n"
     ]
    }
   ],
   "source": [
    "#3..What is the size of the data set? (rows and columns)\n",
    "(rows,columns) = data.shape\n",
    "print \"There are %s rows\" %(rows)\n",
    "print \"There are %s columns\" %(columns)"
   ]
  },
  {
   "cell_type": "code",
   "execution_count": 17,
   "metadata": {
    "collapsed": false
   },
   "outputs": [
    {
     "name": "stdout",
     "output_type": "stream",
     "text": [
      "342 people survived, the percentage is 0.383838383838\n"
     ]
    }
   ],
   "source": [
    "#4.How many people survived? What percentage of people survived?\n",
    "no_survived = data['Survived'].sum()\n",
    "survived_perc = float(no_survived)/rows\n",
    "print \"%s people survived, the percentage is %s\" %(no_survived,survived_perc)"
   ]
  },
  {
   "cell_type": "code",
   "execution_count": 19,
   "metadata": {
    "collapsed": false
   },
   "outputs": [
    {
     "name": "stdout",
     "output_type": "stream",
     "text": [
      "male percentage is 0.64758698092, female is 0.35241301908\n"
     ]
    }
   ],
   "source": [
    "#5.What percentage of passengers are male? female?\n",
    "male=(data[data['Sex']=='male'])\n",
    "female = data[data['Sex']=='female']\n",
    "no_male = len(male)\n",
    "no_female = len(female)\n",
    "male_perct = float(no_male)/rows\n",
    "female_perct = float(no_female)/rows\n",
    "print \"male percentage is %s, female is %s\" %(male_perct,female_perct)"
   ]
  },
  {
   "cell_type": "code",
   "execution_count": 20,
   "metadata": {
    "collapsed": false
   },
   "outputs": [
    {
     "name": "stdout",
     "output_type": "stream",
     "text": [
      "Survival rate of male is 0.188908145581, female is 0.742038216561\n"
     ]
    }
   ],
   "source": [
    "#6.What is the survival rate of male passengers? female passengers?\n",
    "male_survived = male[male['Survived']==1]\n",
    "female_survived = female[female['Survived']==1]\n",
    "male_survived_perc = float(len(male_survived))/no_male\n",
    "female_survived_perc = float(len(female_survived))/no_female\n",
    "print \"Survival rate of male is %s, female is %s\" %(male_survived_perc,female_survived_perc)"
   ]
  },
  {
   "cell_type": "code",
   "execution_count": 21,
   "metadata": {
    "collapsed": false
   },
   "outputs": [
    {
     "name": "stdout",
     "output_type": "stream",
     "text": [
      "There are 3 cabin Class, 147 Pclass\n"
     ]
    }
   ],
   "source": [
    "#7.How many different cabin classes, Pclass, are there? \n",
    "print \"There are %s cabin Class, %s Pclass\" %(len(data.groupby('Pclass').Pclass),len(data.groupby('Cabin').Cabin))"
   ]
  },
  {
   "cell_type": "code",
   "execution_count": 23,
   "metadata": {
    "collapsed": false
   },
   "outputs": [
    {
     "name": "stdout",
     "output_type": "stream",
     "text": [
      "0.242424242424 passengers is in class 1\n",
      "0.206509539843 passengers is in class 2\n",
      "0.551066217733 passengers is in class 3\n"
     ]
    }
   ],
   "source": [
    "#8.What percent of the passengers are in each class?\n",
    "for pclass,subdata in data.groupby('Pclass'):\n",
    "    pclass_perc=float(subdata['PassengerId'].count())/rows\n",
    "    print \"%s passengers is in class %s\" %(pclass_perc,pclass)\n",
    "\n",
    "\n"
   ]
  },
  {
   "cell_type": "code",
   "execution_count": 26,
   "metadata": {
    "collapsed": false
   },
   "outputs": [
    {
     "name": "stdout",
     "output_type": "stream",
     "text": [
      "0.62962962963 passengers are survived within class 1\n",
      "0.472826086957 passengers are survived within class 2\n",
      "0.242362525458 passengers are survived within class 3\n"
     ]
    }
   ],
   "source": [
    "#9.What is the survival rate within each class? \n",
    "survived = data[data['Survived']==1]\n",
    "for survivedpclass,survivedsubdata in survived.groupby('Pclass'):\n",
    "    perc_survived = float(survivedsubdata['PassengerId'].count())/len(data[data['Pclass']==survivedpclass])\n",
    "    print \"%s passengers are survived within class %s\" %(perc_survived,survivedpclass)"
   ]
  },
  {
   "cell_type": "code",
   "execution_count": 69,
   "metadata": {
    "collapsed": false,
    "scrolled": true
   },
   "outputs": [
    {
     "data": {
      "text/plain": [
       "<matplotlib.axes._subplots.AxesSubplot at 0x9d12870>"
      ]
     },
     "execution_count": 69,
     "metadata": {},
     "output_type": "execute_result"
    },
    {
     "data": {
      "text/plain": [
       "<matplotlib.figure.Figure at 0x9d12450>"
      ]
     },
     "metadata": {},
     "output_type": "display_data"
    },
    {
     "data": {
      "image/png": "[encoded data removed]",
      "text/plain": [
       "<matplotlib.figure.Figure at 0x9d12410>"
      ]
     },
     "metadata": {},
     "output_type": "display_data"
    }
   ],
   "source": [
    "#10.Create a histogram of ages split by sex and survival.\n",
    "df = data[['Age','Sex','Survived']]\n",
    "df=df.dropna()\n",
    "df.loc[df['Sex']=='male',['Sex']]=1\n",
    "df.loc[df['Sex']=='female',['Sex']]=0 \n",
    "df2 = DataFrame()\n",
    "df2['Male_survived']=df['Sex']*df['Survived']*df['Age']\n",
    "df2['Female_survived']=(df['Sex']-1)*(df['Survived'])*df['Age']*(-1)\n",
    "df2['Male_unurvived']=(df['Sex'])*(df['Survived']-1)*df['Age']*(-1)\n",
    "df2['Female_unsurvived']=(df['Sex']-1)*(df['Survived']-1)*df['Age']\n",
    "df2[df2<0]=0\n",
    "plt.figure()\n",
    "df2.plot(kind='hist', alpha=0.5)\n"
   ]
  },
  {
   "cell_type": "code",
   "execution_count": 165,
   "metadata": {
    "collapsed": false
   },
   "outputs": [
    {
     "data": {
      "text/plain": [
       "<matplotlib.axes._subplots.AxesSubplot at 0xeb6a5b0>"
      ]
     },
     "execution_count": 165,
     "metadata": {},
     "output_type": "execute_result"
    },
    {
     "data": {
      "image/png": "[encoded data removed]",
      "text/plain": [
       "<matplotlib.figure.Figure at 0x10fcb970>"
      ]
     },
     "metadata": {},
     "output_type": "display_data"
    }
   ],
   "source": [
    "\n",
    "#11.Create a boxplot for age split by class and sex.\n",
    "data.boxplot(column='Age',by=['Pclass','Sex'])"
   ]
  },
  {
   "cell_type": "code",
   "execution_count": 70,
   "metadata": {
    "collapsed": false,
    "scrolled": true
   },
   "outputs": [
    {
     "data": {
      "text/plain": [
       "<matplotlib.axes._subplots.AxesSubplot at 0xa7b1f30>"
      ]
     },
     "execution_count": 70,
     "metadata": {},
     "output_type": "execute_result"
    },
    {
     "data": {
      "text/plain": [
       "<matplotlib.figure.Figure at 0x9d12bd0>"
      ]
     },
     "metadata": {},
     "output_type": "display_data"
    },
    {
     "data": {
      "image/png": "[encoded data removed]",
      "text/plain": [
       "<matplotlib.figure.Figure at 0xad0def0>"
      ]
     },
     "metadata": {},
     "output_type": "display_data"
    },
    {
     "data": {
      "image/png": "[encoded data removed]",
      "text/plain": [
       "<matplotlib.figure.Figure at 0x8a74810>"
      ]
     },
     "metadata": {},
     "output_type": "display_data"
    },
    {
     "data": {
      "image/png": "[encoded data removed]",
      "text/plain": [
       "<matplotlib.figure.Figure at 0x88720f0>"
      ]
     },
     "metadata": {},
     "output_type": "display_data"
    }
   ],
   "source": [
    "#12.For each class create a histogram plot of ages split by suvivor or not.\n",
    "#( You will have one figure for each class. Each figure will have two histograms on it.\n",
    "#One for survivors and one for non-survivors where the survivors are colored blue and non-survivors colored red) \n",
    "import matplotlib.pyplot as plt\n",
    "data = data.dropna()\n",
    "data['Survived_Age']=data['Survived']*data['Age']\n",
    "data['UnSurvived_Age']=((data['Survived']-1)*data['Age'])*(-1)\n",
    "data_class1 = data[data['Pclass']==1]\n",
    "data_class1 = data_class1[['Survived_Age','UnSurvived_Age']]\n",
    "data_class2 = data[data['Pclass']==2]\n",
    "data_class2 = data_class2[['Survived_Age','UnSurvived_Age']]\n",
    "data_class3 = data[data['Pclass']==3]\n",
    "data_class3 = data_class3[['Survived_Age','UnSurvived_Age']]\n",
    "plt.figure()\n",
    "\n",
    "data_class1.plot(kind='hist',color=['Blue','Red'],alpha=0.5)\n",
    "data_class2.plot(kind='hist',color=['Blue','Red'],alpha=0.5)\n",
    "data_class3.plot(kind='hist',color=['Blue','Red'],alpha=0.5)"
   ]
  },
  {
   "cell_type": "code",
   "execution_count": 73,
   "metadata": {
    "collapsed": false
   },
   "outputs": [],
   "source": [
    "#13.Discuss anything interesting you found. Where there any surprises? \n",
    "#Are there any data issues you found? If you wanted to predict survival\n",
    "#or not what do you think we be the most useful?\n",
    "\n",
    "#answer:\n",
    "#1. I found PClass 1 survied most, expensive cabin has more escaping equipement maybe?\n",
    "    #Female and children survived more than male and adult.\n",
    "#2. Data issue, some age values are null\n",
    "#3. To predict the survival, the most useful features are Pclass,Sex, Age "
   ]
  },
  {
   "cell_type": "code",
   "execution_count": null,
   "metadata": {
    "collapsed": true
   },
   "outputs": [],
   "source": []
  }
 ],
 "metadata": {
  "kernelspec": {
   "display_name": "Python 2",
   "language": "python",
   "name": "python2"
  },
  "language_info": {
   "codemirror_mode": {
    "name": "ipython",
    "version": 2
   },
   "file_extension": ".py",
   "mimetype": "text/x-python",
   "name": "python",
   "nbconvert_exporter": "python",
   "pygments_lexer": "ipython2",
   "version": "2.7.10"
  }
 },
 "nbformat": 4,
 "nbformat_minor": 0
}
